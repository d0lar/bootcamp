{
 "cells": [
  {
   "cell_type": "code",
   "execution_count": null,
   "metadata": {},
   "outputs": [],
   "source": [
    "import sys\n",
    "print(sys.version)"
   ]
  },
  {
   "cell_type": "code",
   "execution_count": null,
   "metadata": {},
   "outputs": [],
   "source": [
    "# restart and clear output się przydaje \n",
    "# jak coś nie działa w kodzie, bo może być tak,\n",
    "# że mamy zapamiętaną w programie jakąś zmienną, która nam \n",
    "# wszystko psuje, ale jej nie ma bo jako linijka jest usunięta"
   ]
  },
  {
   "cell_type": "code",
   "execution_count": null,
   "metadata": {},
   "outputs": [],
   "source": [
    "# składnia pythona - dobre praktyki\n",
    "# https://www.python.org/dev/peps/pep-0008/\n",
    "\n",
    "# skondensowana wiedza\n",
    "# https://python.astrotech.io/quality/good-engineering-practice/pep8.html#pep-8-style-guide-for-python-code\n"
   ]
  },
  {
   "cell_type": "code",
   "execution_count": null,
   "metadata": {},
   "outputs": [],
   "source": [
    "# zmienne --> z małych liter, z podłogą\n",
    "# stałe z wielkich\n",
    "name='jan'\n",
    "print('my name is {}'.format(name))"
   ]
  },
  {
   "cell_type": "code",
   "execution_count": null,
   "metadata": {},
   "outputs": [],
   "source": [
    "# komentarz\n",
    "name = 'Michal'  # This is my name\n",
    "print(f'Hello world {name}')\n",
    "\n",
    "# ctrl + alt i kursorem wybieram kilka miejsc naraz gdzie jest kursor"
   ]
  },
  {
   "cell_type": "code",
   "execution_count": null,
   "metadata": {},
   "outputs": [],
   "source": [
    "# == <-- to jest numerator numeryczny, nie powinniśmy sprawdzać czy np.\n",
    "# zmienna ma wartość None, to powinno się używać 'is' <-- operator tożsamościowy?"
   ]
  },
  {
   "cell_type": "code",
   "execution_count": null,
   "metadata": {},
   "outputs": [],
   "source": [
    "# / dzielenie normalne\n",
    "# // dzielenie bez reszty\n",
    "# % reszta z dzielenia"
   ]
  },
  {
   "cell_type": "code",
   "execution_count": null,
   "metadata": {},
   "outputs": [],
   "source": [
    "# operatory inkrementalne\n",
    "# +=, -=, *="
   ]
  },
  {
   "cell_type": "code",
   "execution_count": null,
   "metadata": {},
   "outputs": [],
   "source": [
    "milion=1_000_000\n",
    "print(milion*2)"
   ]
  },
  {
   "cell_type": "code",
   "execution_count": null,
   "metadata": {},
   "outputs": [],
   "source": [
    "# floaty mają problem z 0.2, bo on nie ma dobrego odzwierciedlenia w \n",
    "# kodzie binarnym, przez to 0.1 + 0.2 = 0.30000000000002\n",
    "# dlatego w finansach używa się tylko decimal, nie float"
   ]
  },
  {
   "cell_type": "code",
   "execution_count": null,
   "metadata": {},
   "outputs": [],
   "source": [
    "SEKUNDA=1\n",
    "MINUTA=60*SEKUNDA\n",
    "GODZINA=MINUTA*60\n",
    "\n",
    "BIT = 1\n",
    "KILOBIT = 1024 * BIT\n",
    "MEGABIT = 1024 * KILOBIT\n",
    "\n",
    "BYTE = 8 * BIT\n",
    "KILOBYTE = 1024 * BYTE\n",
    "MEGABYTE = 1024 * KILOBYTE\n",
    "\n"
   ]
  },
  {
   "cell_type": "code",
   "execution_count": null,
   "metadata": {},
   "outputs": [],
   "source": [
    "print(f'pięć minut to {MINUTA*5} sekund')\n",
    "print(f'godzina to {GODZINA} sekund')\n",
    "print(f'dzien pracy to {GODZINA*8} sekund')\n",
    "print(f'{GODZINA*22*8} sekund')\n",
    "print(f'{GODZINA*22*8/GODZINA} godzin')\n",
    "print(f'{GODZINA*40/MINUTA} sekund')"
   ]
  },
  {
   "cell_type": "code",
   "execution_count": null,
   "metadata": {},
   "outputs": [],
   "source": [
    "bitow_na_sec=100/8\n",
    "ile=100/bitow_na_sec\n",
    "ile"
   ]
  },
  {
   "cell_type": "code",
   "execution_count": null,
   "metadata": {},
   "outputs": [],
   "source": [
    "BIT = 1\n",
    "KILOBIT = 1024 * BIT\n",
    "MEGABIT = 1024 * KILOBIT\n",
    "\n",
    "BYTE = 8 * BIT\n",
    "KILOBYTE = 1024 * BYTE\n",
    "MEGABYTE = 1024 * KILOBYTE\n",
    "\n",
    "file_size = 100 * MEGABYTE\n",
    "speed = 100 * MEGABIT\n",
    "time = file_size / speed\n",
    "\n",
    "print(f'Download time: {time} sec')"
   ]
  },
  {
   "cell_type": "code",
   "execution_count": null,
   "metadata": {},
   "outputs": [],
   "source": [
    "K=273\n",
    "C=-273\n",
    "print(f'temp ksiezyca w dzien {180+K} kelwinow')\n",
    "print(f'temp ksiezyca {93+C} celsiusza')\n",
    "print(f'temp ksiezyca {-63+K} kelwinow')\n",
    "print(f'temp ksiezyca {20+K} kelwinow')\n",
    "print(f'temp ksiezyca {120+C} celsiusza')\n"
   ]
  },
  {
   "cell_type": "code",
   "execution_count": null,
   "metadata": {},
   "outputs": [],
   "source": [
    "# nie zaokrągla się przez funkcję round, ale przez format,\n",
    "# czyli f'Pi number is {pi:3f}"
   ]
  },
  {
   "cell_type": "code",
   "execution_count": null,
   "metadata": {},
   "outputs": [],
   "source": [
    "SECOND = 1\n",
    "MINUTE = 60 * SECOND\n",
    "HOUR = 60 * MINUTE\n",
    "\n",
    "M = 1\n",
    "KM = 1000 * M\n",
    "FT = 0.3048 * M\n",
    "MI = 1609.344 * M\n",
    "KPH = KM / HOUR\n",
    "MPH = MI / HOUR\n",
    "\n",
    "LITER = 1\n",
    "FLOZ = 0.02957344 * LITER\n",
    "\n",
    "plane_altitude = 10_000 * FT\n",
    "bottle = 20 * FLOZ\n",
    "speed_limit = 75 * MI/HOUR\n",
    "\n",
    "METERS=1\n",
    "kilo=METERS*1000\n",
    "mile=METERS/1609.344\n",
    "mile_morskie=METERS/1852\n",
    "m=1337\n",
    "\n",
    "print(f'all: {m/kilo}, {m*mile:.2f}, {m*mile_morskie:.2f}')"
   ]
  },
  {
   "cell_type": "code",
   "execution_count": null,
   "metadata": {},
   "outputs": [],
   "source": [
    "# nie robić operacji w princie, czyli nie liczyć w princie niczego"
   ]
  },
  {
   "cell_type": "code",
   "execution_count": null,
   "metadata": {},
   "outputs": [],
   "source": [
    "Pa=1\n",
    "hPa=Pa*100\n",
    "kPa=Pa*1000\n",
    "\n",
    "psi=4.3/29.65\n",
    "emu_psi=4.3\n",
    "emu_kpa=emu_psi/psi\n",
    "\n",
    "orlan_kpa=400/(kPa/hPa)\n",
    "orlan_psi=400/(kPa/hPa)*psi\n",
    "\n",
    "\n",
    "print(f'{orlan_kpa:.2f}')\n",
    "print(f'{orlan_psi:.2f}')"
   ]
  },
  {
   "cell_type": "code",
   "execution_count": null,
   "metadata": {},
   "outputs": [],
   "source": [
    "M=1\n",
    "Pa=1\n",
    "ata=1013.25\n",
    "ox=0.20946\n",
    "press=-11.3*Pa/M\n",
    "\n",
    "ox_parcial=ata*ox\n",
    "\n",
    "lat=(ata-ox_parcial)/press\n",
    "\n",
    "\n",
    "print(f'{ata/(kPa/hPa)} kPa')\n",
    "print(f'{ox_parcial/(kPa/hPa)} kPa')\n",
    "print(lat*100)"
   ]
  },
  {
   "cell_type": "code",
   "execution_count": null,
   "metadata": {},
   "outputs": [],
   "source": [
    "Pa = 1\n",
    "hPa = 100 * Pa\n",
    "ATA = 1013.25 * hPa\n",
    "\n",
    "o2 = 20.946/100 * ATA\n",
    "pressure_gradient = -11.3 * Pa\n",
    "death_altitude = (o2 - ATA) / pressure_gradient\n",
    "\n",
    "print(f'O2 partial pressure at sea level: {o2/hPa:.2f} hPa')\n",
    "print(f'International Standard Atmosphere: {ATA/hPa:.2f} hPa')\n",
    "print(f'Death altitude: {death_altitude:.2f} m')\n",
    "print(ATA)"
   ]
  },
  {
   "cell_type": "code",
   "execution_count": null,
   "metadata": {},
   "outputs": [],
   "source": [
    "# restructured text vs. markdown text\n",
    "# on w czymś pisze książkę, ale w czym?"
   ]
  },
  {
   "cell_type": "code",
   "execution_count": null,
   "metadata": {},
   "outputs": [],
   "source": [
    "# najpierw wykonywane jest AND a później OR"
   ]
  },
  {
   "cell_type": "code",
   "execution_count": null,
   "metadata": {},
   "outputs": [],
   "source": [
    "isinstance(1,int)\n",
    "isinstance(1.5,(float,int))"
   ]
  },
  {
   "cell_type": "code",
   "execution_count": null,
   "metadata": {},
   "outputs": [],
   "source": [
    "a = bool(True) == True                   # True\n",
    "b = bool(False) == False                  # True\n",
    "c = True == True                         # True\n",
    "d = True != False                        # True\n",
    "e = True or True                          # True\n",
    "f = False and True                         # False\n",
    "g = bool(bool(False) == False) or False   # True\n",
    "h = bool(False) is not bool(False)          # False"
   ]
  },
  {
   "cell_type": "code",
   "execution_count": null,
   "metadata": {},
   "outputs": [],
   "source": [
    "print(bool(a))                          # True\n",
    "print(bool(b))                          # True\n",
    "print(bool(c))                          # True\n",
    "print(bool(d))                          # True\n",
    "print(bool(e))                          # True\n",
    "print(bool(f))                          # False\n",
    "print(bool(g))                          # True\n",
    "print(bool(h))                          # False"
   ]
  },
  {
   "cell_type": "code",
   "execution_count": null,
   "metadata": {},
   "outputs": [],
   "source": [
    "# sprawdzamy tożsamość obiektu None is True // a nie None == True"
   ]
  },
  {
   "cell_type": "code",
   "execution_count": null,
   "metadata": {},
   "outputs": [],
   "source": [
    "# doctest - gruby temat - komentarz pisany w funkcji,\n",
    "# który później jest dostępny w dokumentacji (czyli jak wpiszesz \"?\"\n",
    "# to wtedy da opis funkcji wpisany w tym komentarzu"
   ]
  },
  {
   "cell_type": "code",
   "execution_count": null,
   "metadata": {},
   "outputs": [],
   "source": [
    "name=input('your name: ')\n",
    "\n",
    "print(f'Hello {name} \\U0001F642')\n",
    "print(len(name))"
   ]
  },
  {
   "cell_type": "code",
   "execution_count": null,
   "metadata": {},
   "outputs": [],
   "source": [
    "# stringi są niemutowalne < -nie da się edytować stringu\n",
    "# ktory jest już stworzony. tworzy się nowy strong"
   ]
  },
  {
   "cell_type": "code",
   "execution_count": 1,
   "metadata": {},
   "outputs": [],
   "source": [
    "a = 'ul Jana III SobIESkiego'\n",
    "b = '\\tul. Jana trzeciego Sobieskiego'\n",
    "c = 'ulicaJana III Sobieskiego'\n",
    "d = 'UL. JANA 3 \\nSOBIESKIEGO'\n",
    "e = 'UL. jana III SOBiesKIEGO'\n",
    "f = 'ULICA JANA III SOBIESKIEGO  '\n",
    "g = 'ULICA. JANA III SOBIeskieGO'\n",
    "h = ' Jana 3 Sobieskiego  '\n",
    "i = 'Jana III Sobi\\teskiego '"
   ]
  },
  {
   "cell_type": "code",
   "execution_count": 8,
   "metadata": {},
   "outputs": [
    {
     "name": "stdout",
     "output_type": "stream",
     "text": [
      "Ul Jana III Sobieskiego\n",
      "Ul. Jana Trzeciego Sobieskiego\n",
      "Ulicajana III Sobieskiego\n",
      "Ul. Jana 3 \n",
      "Sobieskiego\n",
      "Ul. Jana III Sobieskiego\n",
      "Ulica Jana III Sobieskiego\n",
      "Ulica. Jana III Sobieskiego\n",
      "Jana 3 Sobieskiego\n",
      "Jana III Sobi\tEskiego\n"
     ]
    }
   ],
   "source": [
    "print(a.upper().title().replace(\"Iii\",\"III\").strip())\n",
    "print(b.upper().title().replace(\"Iii\",\"III\").strip())\n",
    "print(c.upper().title().replace(\"Iii\",\"III\").strip())\n",
    "print(d.upper().title().replace(\"Iii\",\"III\").strip())\n",
    "print(e.upper().title().replace(\"Iii\",\"III\").strip())\n",
    "print(f.upper().title().replace(\"Iii\",\"III\").strip())\n",
    "print(g.upper().title().replace(\"Iii\",\"III\").strip())\n",
    "print(h.upper().title().replace(\"Iii\",\"III\").strip())\n",
    "print(i.upper().title().replace(\"Iii\",\"III\").strip())\n",
    "# lista=[a,b,c,d,e,f,g,h,i]\n",
    "# for i in lista:\n",
    "#     i=i.upper().strip().replace('3','III')\n",
    "# print(lista)\n",
    "    \n"
   ]
  },
  {
   "cell_type": "code",
   "execution_count": 9,
   "metadata": {},
   "outputs": [
    {
     "name": "stdout",
     "output_type": "stream",
     "text": [
      "Ul. Jana III \n",
      "Sobieskiego\n"
     ]
    }
   ],
   "source": [
    "d=d.upper().title().replace(\"Iii\",\"III\").replace(\"3\",\"III\").strip()\n",
    "print(d)"
   ]
  },
  {
   "cell_type": "code",
   "execution_count": 12,
   "metadata": {},
   "outputs": [
    {
     "name": "stdout",
     "output_type": "stream",
     "text": [
      "Matched: False\n",
      "UL. jana \tTWArdoWskIEGO 3\n"
     ]
    }
   ],
   "source": [
    "expected = 'Jana Twardowskiego III'\n",
    "text = 'UL. jana \\tTWArdoWskIEGO 3'\n",
    "\n",
    "text = text.upper()\n",
    "text = text.replace('UL.', '')\n",
    "text = text.replace('\\t', '')\n",
    "text = text.replace('3', 'III')\n",
    "text = text.title()\n",
    "text = text.replace('Iii', 'III')\n",
    "text = text.strip()\n",
    "\n",
    "print('Matched:', text == expected)\n",
    "# Matched: True\n",
    "\n",
    "print(text)\n",
    "# Jana Twardowskiego III"
   ]
  },
  {
   "cell_type": "code",
   "execution_count": null,
   "metadata": {},
   "outputs": [],
   "source": [
    "# typy\n",
    "# co to jest ide\n",
    "# fast api\n",
    "# nauczyć się czytać typy"
   ]
  },
  {
   "cell_type": "code",
   "execution_count": null,
   "metadata": {},
   "outputs": [],
   "source": [
    "# rzutowanie --> że zmieniam sobie \n",
    "# jakąś listę, tuple albo słownik w listę"
   ]
  },
  {
   "cell_type": "code",
   "execution_count": null,
   "metadata": {},
   "outputs": [],
   "source": [
    "# jak chcę dodawać do listy więcej itemów\n",
    "# żeby wydłużyć listę to extend, bo jak dasz\n",
    "# append to wstawia to jako listę w listę\n",
    "\n",
    "data = [1, 2]\n",
    "\n",
    "data.extend([3, 4])\n",
    "# [1, 2, 3, 4]\n",
    "data.append([3, 4])\n",
    "# [1, 2, [3, 4]]\n",
    "\n"
   ]
  },
  {
   "cell_type": "code",
   "execution_count": null,
   "metadata": {},
   "outputs": [],
   "source": [
    "# funkcja zwraca posortowaną listę, ale \n",
    "# nie zmienia oryginału. \n",
    "# a metoda zmienia oryginalną"
   ]
  },
  {
   "cell_type": "code",
   "execution_count": 13,
   "metadata": {},
   "outputs": [
    {
     "name": "stdout",
     "output_type": "stream",
     "text": [
      "['a', 1, 2.2] 3\n"
     ]
    }
   ],
   "source": [
    "result=['a',1,2.2]\n",
    "print(result,len(result))"
   ]
  }
 ],
 "metadata": {
  "kernelspec": {
   "display_name": "Python 3",
   "language": "python",
   "name": "python3"
  },
  "language_info": {
   "codemirror_mode": {
    "name": "ipython",
    "version": 3
   },
   "file_extension": ".py",
   "mimetype": "text/x-python",
   "name": "python",
   "nbconvert_exporter": "python",
   "pygments_lexer": "ipython3",
   "version": "3.7.6"
  }
 },
 "nbformat": 4,
 "nbformat_minor": 4
}

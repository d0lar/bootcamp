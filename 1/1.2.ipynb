{
 "cells": [
  {
   "cell_type": "code",
   "execution_count": null,
   "metadata": {},
   "outputs": [],
   "source": [
    "# krotki sa niemutowalne, listy są\n",
    "# tuple jednoelementowy, więc jak się definiuje tuple, \n",
    "# to trzeba dać listę, stringa, słownik, czyli:\n",
    "# data=tuple([1,2,3]),a le tuple(1,2,3) wyrzuci błąd\n",
    "# dlatego, że tuble przyjmuje zawsze jeden element\n"
   ]
  },
  {
   "cell_type": "code",
   "execution_count": null,
   "metadata": {},
   "outputs": [],
   "source": [
    "# kiedy lista kiedy tuple\n",
    "# tuple są szybsze, bo są zapisywane w pamięci w blokach obok siebie,\n",
    "# a wartości list są porozsiewane tam dzie wolne\n",
    "# jak znajdzie pierwszy, to znajdzie wszystkie"
   ]
  },
  {
   "cell_type": "code",
   "execution_count": null,
   "metadata": {},
   "outputs": [],
   "source": [
    "# numpy jest zrobiony w c, dlatego jest szybki"
   ]
  },
  {
   "cell_type": "code",
   "execution_count": null,
   "metadata": {},
   "outputs": [],
   "source": [
    "result='a',1,2.2\n",
    "print(result, len(result))"
   ]
  },
  {
   "cell_type": "code",
   "execution_count": null,
   "metadata": {},
   "outputs": [],
   "source": [
    "\"Sepal length\", \"Sepal width\", \"Petal length\", \"Petal width\", \"Species\"\n",
    "\"5.8\", \"2.7\", \"5.1\", \"1.9\", \"virginica\"\n",
    "\"5.1\", \"3.5\", \"1.4\", \"0.2\", \"setosa\"\n",
    "\"5.7\", \"2.8\", \"4.1\", \"1.3\", \"versicolor\"\n",
    "\"6.3\", \"2.9\", \"5.6\", \"1.8\", \"virginica\"\n",
    "\"6.4\", \"3.2\", \"4.5\", \"1.5\", \"versicolor\"\n",
    "\"4.7\", \"3.2\", \"1.3\", \"0.2\", \"setosa\"\n",
    "\"7.0\", \"3.2\", \"4.7\", \"1.4\", \"versicolor\"\n",
    "\"7.6\", \"3.0\", \"6.6\", \"2.1\", \"virginica\"\n",
    "\"4.9\", \"3.0\", \"1.4\", \"0.2\", \"setosa\"\n",
    "\"4.9\", \"2.5\", \"4.5\", \"1.7\", \"virginica\"\n",
    "\"7.1\", \"3.0\", \"5.9\", \"2.1\", \"virginica\""
   ]
  },
  {
   "cell_type": "code",
   "execution_count": null,
   "metadata": {},
   "outputs": [],
   "source": [
    "a=(5.8,5.1,5.7,6.3,6.4,4.7,7.0,7.6,4.9,4.9,7.1)\n",
    "mean=sum(a)/len(a)\n",
    "print(f'Sepal lenght = {mean}')\n",
    "b=(2.7,3.5,2.8,2.9,3.2,3.2,3.2,3.0,3.0,2.5,3.0)\n",
    "mean=sum(b)/len(b)\n",
    "print(f'Sepal lenght = {mean}')\n",
    "c=(5.1,1.4,4.1,5.6,4.5,1.3,4.7,6.6,1.4,4.5,5.9)\n",
    "mean=sum(c)/len(c)\n",
    "print(f'Sepal lenght = {mean}')\n",
    "d=(1.9,0.2,1.3,1.8,1.5,0.2,1.4,2.1,0.2,1.7,2.1)\n",
    "mean=sum(d)/len(d)\n",
    "print(f'Sepal lenght = {mean}')\n",
    "\n",
    "gatunki=(\"virginica\",\n",
    "\"setosa\",\n",
    "\"setosa\")\n",
    "print(gatunki)"
   ]
  },
  {
   "cell_type": "code",
   "execution_count": null,
   "metadata": {},
   "outputs": [],
   "source": [
    "# SET\n",
    "# haszowalne elementy - dowolne niemodyfikowalne elementy \n",
    "# czyli int, float, string, bool, tuple\n",
    "# list nie można\n",
    "# set jest nieuporządkowany, więc nie da się dostać się do \n",
    "# określonego miejsca - po indeksie\n",
    "# frozen set - do niego nie da sie nic dodawać. \n",
    "# we frozen set taką kolejność jak się doda tak będzie\n",
    "# a w secie to nie będzie uporządkowane w kolejności jaką się włożyło\n",
    "# tylko będzie uporządkowane po hashach\n"
   ]
  },
  {
   "cell_type": "code",
   "execution_count": null,
   "metadata": {},
   "outputs": [],
   "source": [
    "data = {1,2}\n",
    "\n",
    "print(data.isdisjoint({1,2}))     # False\n",
    "print(data.isdisjoint({1,3}))     # False\n",
    "print(data.isdisjoint({3,4}))     # True\n"
   ]
  },
  {
   "cell_type": "code",
   "execution_count": null,
   "metadata": {},
   "outputs": [],
   "source": [
    "# set jest sekwencją"
   ]
  },
  {
   "cell_type": "code",
   "execution_count": null,
   "metadata": {},
   "outputs": [],
   "source": [
    "results=set(('a',1,2.2))"
   ]
  },
  {
   "cell_type": "code",
   "execution_count": 44,
   "metadata": {},
   "outputs": [
    {
     "name": "stdout",
     "output_type": "stream",
     "text": [
      "[0.2, 1.3, 1.4, 1.5, 1.8, 1.9, 2.4, 2.7, 2.8, 2.9, 3.2, 3.5, 4.1, 4.2, 4.5, 5.1, 5.6, 5.7, 5.8, 6.3, 6.4, 12.9]\n"
     ]
    }
   ],
   "source": [
    "result={0.2, 1.3, 1.4, 1.5, 1.8, 1.9}\n",
    "result.add(2.7)\n",
    "result.add(2.8)\n",
    "result.add(2.9)\n",
    "result.add(3.2)\n",
    "trzeci={3.5, 4.1, 4.5, 5.1}\n",
    "result.update(trzeci)\n",
    "czwarty=5.6, 5.7, 5.8, 6.3, 6.4\n",
    "piaty=[5.6,4.2,2.4,12.9]\n",
    "result.update(czwarty,piaty)\n",
    "print(sorted(result))"
   ]
  },
  {
   "cell_type": "code",
   "execution_count": null,
   "metadata": {},
   "outputs": [],
   "source": [
    "DATA = frozenset({\n",
    "    'We choose to go to the Moon.',\n",
    "    'We choose to go to the Moon in this decade and do the other things.',\n",
    "    'Not because they are easy, but because they are hard.'})\n",
    "result: str\n",
    "result=(\"\\n\").join(DATA)\n",
    "print(result)"
   ]
  },
  {
   "cell_type": "code",
   "execution_count": null,
   "metadata": {},
   "outputs": [],
   "source": [
    "result=[\n",
    "    (1,2,3),\n",
    "    [1.1,1.2,1.3],\n",
    "    {'Mark','Melissa',\"Jan\"}\n",
    "]\n",
    "print(f'lista:{result} o liczbie elementów równej {len(result)}')"
   ]
  },
  {
   "cell_type": "code",
   "execution_count": 29,
   "metadata": {
    "scrolled": false
   },
   "outputs": [
    {
     "name": "stdout",
     "output_type": "stream",
     "text": [
      "[[5.1, 3.5, 1.4, 0.2, 'setosa'],\n",
      " [4.7, 3.2, 1.3, 0.2, 'setosa'],\n",
      " [4.9, 3.0, 1.4, 0.2, 'setosa'],\n",
      " (4.6, 3.4, 1.4, 0.3, 'setosa'),\n",
      " (5.0, 3.6, 1.4, 0.3, 'setosa'),\n",
      " (5.5, 2.3, 4.0, 1.3, 'versicolor')]\n"
     ]
    }
   ],
   "source": [
    "DATA = [\n",
    "    ('Sepal length', 'Sepal width', 'Petal length', 'Petal width', 'Species'),\n",
    "    (5.8, 2.7, 5.1, 1.9, 'virginica'),\n",
    "    (5.1, 3.5, 1.4, 0.2, 'setosa'),\n",
    "    (5.7, 2.8, 4.1, 1.3, 'versicolor'),\n",
    "    (6.3, 2.9, 5.6, 1.8, 'virginica'),\n",
    "    (6.4, 3.2, 4.5, 1.5, 'versicolor'),\n",
    "    (4.7, 3.2, 1.3, 0.2, 'setosa'),\n",
    "    (7.0, 3.2, 4.7, 1.4, 'versicolor'),\n",
    "    (7.6, 3.0, 6.6, 2.1, 'virginica'),\n",
    "    (4.9, 3.0, 1.4, 0.2, 'setosa'),\n",
    "    (4.9, 2.5, 4.5, 1.7, 'virginica'),\n",
    "    (7.1, 3.0, 5.9, 2.1, 'virginica'),\n",
    "    (4.6, 3.4, 1.4, 0.3, 'setosa'),\n",
    "    (5.4, 3.9, 1.7, 0.4, 'setosa'),\n",
    "    (5.7, 2.8, 4.5, 1.3, 'versicolor'),\n",
    "    (5.0, 3.6, 1.4, 0.3, 'setosa'),\n",
    "    (5.5, 2.3, 4.0, 1.3, 'versicolor'),\n",
    "    (6.5, 3.0, 5.8, 2.2, 'virginica'),\n",
    "    (6.5, 2.8, 4.6, 1.5, 'versicolor'),\n",
    "    (6.3, 3.3, 6.0, 2.5, 'virginica'),\n",
    "    (6.9, 3.1, 4.9, 1.5, 'versicolor'),\n",
    "    (4.6, 3.1, 1.5, 0.2, 'setosa'),\n",
    "]\n",
    "\n",
    "header=DATA[0]\n",
    "result=[]\n",
    "result.append(list(DATA[2]))\n",
    "result.append(list(DATA[6]))\n",
    "result.append(list(DATA[9]))\n",
    "result.append(DATA[12])\n",
    "result.append(DATA[15])\n",
    "result.append(DATA[16])\n",
    "result.extend(list())\n",
    "result.extend(tuple())\n",
    "result.extend(set())\n",
    "pprint(result)\n"
   ]
  },
  {
   "cell_type": "code",
   "execution_count": 25,
   "metadata": {},
   "outputs": [],
   "source": [
    "from pprint import pprint"
   ]
  },
  {
   "cell_type": "code",
   "execution_count": 40,
   "metadata": {},
   "outputs": [
    {
     "name": "stdout",
     "output_type": "stream",
     "text": [
      "We choose the Moon!\n"
     ]
    }
   ],
   "source": [
    "TEXT = 'We choose to go to the Moon!'\n",
    "REMOVE = 'to go to '\n",
    "a=TEXT.find(REMOVE)+1\n",
    "b=len(REMOVE)\n",
    "first=TEXT[:a]\n",
    "second=TEXT[a+b:]\n",
    "print(first+second)\n"
   ]
  },
  {
   "cell_type": "code",
   "execution_count": 45,
   "metadata": {},
   "outputs": [],
   "source": [
    "# index i slice (czyli wycinanie fragmentów z sekwencji)\n",
    "# MULTO IMPORTANTE!!!!!"
   ]
  },
  {
   "cell_type": "code",
   "execution_count": 47,
   "metadata": {},
   "outputs": [
    {
     "name": "stdout",
     "output_type": "stream",
     "text": [
      ">>>Jan Twardowski\t<<<\n"
     ]
    }
   ],
   "source": [
    "b = 'lt. col. Jan Twardowski\\t'\n",
    "print(f'>>>{b[9:]}<<<')\n",
    "# dobry sposób, żeby sprawdzać czy mamy znaki"
   ]
  },
  {
   "cell_type": "code",
   "execution_count": 52,
   "metadata": {},
   "outputs": [
    {
     "name": "stdout",
     "output_type": "stream",
     "text": [
      "1\n"
     ]
    }
   ],
   "source": [
    "# unpacking\n",
    "a, b, c = 1, 2, 3\n",
    "type(a)\n",
    "(a, b, c) = (1, 2, 3)\n",
    "print(a)"
   ]
  },
  {
   "cell_type": "code",
   "execution_count": 55,
   "metadata": {},
   "outputs": [
    {
     "name": "stdout",
     "output_type": "stream",
     "text": [
      "asd\n"
     ]
    }
   ],
   "source": [
    "# sytatic sugar- trochę bardziej zaawansowane\n",
    "line=\"asd,tttt\"\n",
    "a,_=line.split(',')\n",
    "print(a)"
   ]
  },
  {
   "cell_type": "code",
   "execution_count": 56,
   "metadata": {},
   "outputs": [],
   "source": [
    "# 3.8.7 <--- super"
   ]
  },
  {
   "cell_type": "code",
   "execution_count": 73,
   "metadata": {},
   "outputs": [
    {
     "name": "stdout",
     "output_type": "stream",
     "text": [
      "10.13.37.1 ['nasa.gov', 'esa.int', 'roscosmos.ru']\n"
     ]
    }
   ],
   "source": [
    "DATA = '10.13.37.1      nasa.gov esa.int roscosmos.ru'\n",
    "ip,*hosts=DATA.split()\n",
    "print(ip,hosts)"
   ]
  },
  {
   "cell_type": "code",
   "execution_count": 80,
   "metadata": {
    "scrolled": true
   },
   "outputs": [
    {
     "name": "stdout",
     "output_type": "stream",
     "text": [
      "[(5.8, 2.7, 5.1, 1.9, 'virginica'), (5.1, 3.5, 1.4, 0.2, 'setosa'), (5.7, 2.8, 4.1, 1.3, 'versicolor'), (6.3, 2.9, 5.6, 1.8, 'virginica'), (6.4, 3.2, 4.5, 1.5, 'versicolor'), (4.7, 3.2, 1.3, 0.2, 'setosa'), (7.0, 3.2, 4.7, 1.4, 'versicolor'), (7.6, 3.0, 6.6, 2.1, 'virginica'), (4.9, 3.0, 1.4, 0.2, 'setosa'), (4.9, 2.5, 4.5, 1.7, 'virginica'), (7.1, 3.0, 5.9, 2.1, 'virginica'), (4.6, 3.4, 1.4, 0.3, 'setosa'), (5.4, 3.9, 1.7, 0.4, 'setosa'), (5.7, 2.8, 4.5, 1.3, 'versicolor'), (5.0, 3.6, 1.4, 0.3, 'setosa'), (5.5, 2.3, 4.0, 1.3, 'versicolor'), (6.5, 3.0, 5.8, 2.2, 'virginica'), (6.5, 2.8, 4.6, 1.5, 'versicolor'), (6.3, 3.3, 6.0, 2.5, 'virginica'), (6.9, 3.1, 4.9, 1.5, 'versicolor'), (4.6, 3.1, 1.5, 0.2, 'setosa')]\n"
     ]
    }
   ],
   "source": [
    "DATA = [\n",
    "    ('Sepal length', 'Sepal width', 'Petal length', 'Petal width', 'Species'),\n",
    "    (5.8, 2.7, 5.1, 1.9, 'virginica'),\n",
    "    (5.1, 3.5, 1.4, 0.2, 'setosa'),\n",
    "    (5.7, 2.8, 4.1, 1.3, 'versicolor'),\n",
    "    (6.3, 2.9, 5.6, 1.8, 'virginica'),\n",
    "    (6.4, 3.2, 4.5, 1.5, 'versicolor'),\n",
    "    (4.7, 3.2, 1.3, 0.2, 'setosa'),\n",
    "    (7.0, 3.2, 4.7, 1.4, 'versicolor'),\n",
    "    (7.6, 3.0, 6.6, 2.1, 'virginica'),\n",
    "    (4.9, 3.0, 1.4, 0.2, 'setosa'),\n",
    "    (4.9, 2.5, 4.5, 1.7, 'virginica'),\n",
    "    (7.1, 3.0, 5.9, 2.1, 'virginica'),\n",
    "    (4.6, 3.4, 1.4, 0.3, 'setosa'),\n",
    "    (5.4, 3.9, 1.7, 0.4, 'setosa'),\n",
    "    (5.7, 2.8, 4.5, 1.3, 'versicolor'),\n",
    "    (5.0, 3.6, 1.4, 0.3, 'setosa'),\n",
    "    (5.5, 2.3, 4.0, 1.3, 'versicolor'),\n",
    "    (6.5, 3.0, 5.8, 2.2, 'virginica'),\n",
    "    (6.5, 2.8, 4.6, 1.5, 'versicolor'),\n",
    "    (6.3, 3.3, 6.0, 2.5, 'virginica'),\n",
    "    (6.9, 3.1, 4.9, 1.5, 'versicolor'),\n",
    "    (4.6, 3.1, 1.5, 0.2, 'setosa'),\n",
    "]\n",
    "\n",
    "header,*data=DATA\n",
    "print(data)"
   ]
  },
  {
   "cell_type": "code",
   "execution_count": 81,
   "metadata": {},
   "outputs": [],
   "source": [
    "# Tuple, List, Set są z wielkiej litery, jeżeli później będziesz\n",
    "# podawał co ma być w środku, np. List[tuple]\n",
    "# co to jest union? bo wychodzi na to, że List[Union[List, Tuple]]\n",
    "# czyli, że w liście są albo listy albo tuple"
   ]
  },
  {
   "cell_type": "code",
   "execution_count": 82,
   "metadata": {},
   "outputs": [],
   "source": [
    "# 4.10\n"
   ]
  },
  {
   "cell_type": "code",
   "execution_count": null,
   "metadata": {},
   "outputs": [],
   "source": [
    "# set nie ma formy skróconej, jest set(), a pusty disc to są {}"
   ]
  },
  {
   "cell_type": "code",
   "execution_count": 84,
   "metadata": {
    "scrolled": true
   },
   "outputs": [
    {
     "name": "stdout",
     "output_type": "stream",
     "text": [
      "{'First Name': 'Jan', 'Last Name': 'Twardowski', 'Missions': ['Apollo', 'Artemis']}\n"
     ]
    }
   ],
   "source": [
    "result={\"First Name\":\"Jan\",'Last Name':'Twardowski',\n",
    "        'Missions':['Apollo','Artemis']}\n",
    "print(result)"
   ]
  },
  {
   "cell_type": "code",
   "execution_count": 89,
   "metadata": {},
   "outputs": [
    {
     "name": "stdout",
     "output_type": "stream",
     "text": [
      "{'Petal length': 5.1,\n",
      " 'Petal width': 1.9,\n",
      " 'Sepal length': 5.8,\n",
      " 'Sepal width': 2.7}\n",
      "['Sepal length', 'Sepal width', 'Petal length', 'Petal width']\n",
      "[5.8, 2.7, 5.1, 1.9]\n",
      "[('Sepal length', 5.8),\n",
      " ('Sepal width', 2.7),\n",
      " ('Petal length', 5.1),\n",
      " ('Petal width', 1.9)]\n"
     ]
    }
   ],
   "source": [
    "DATA = {\n",
    "    'Sepal length': 5.8,\n",
    "    'Sepal width': 2.7,\n",
    "    'Petal length': 5.1,\n",
    "    'Petal width': 1.9,\n",
    "}\n",
    "pprint(DATA)\n",
    "pprint(list(DATA.keys()))\n",
    "pprint(list(DATA.values()))\n",
    "pprint(list(DATA.items()))"
   ]
  },
  {
   "cell_type": "code",
   "execution_count": 101,
   "metadata": {},
   "outputs": [
    {
     "name": "stdout",
     "output_type": "stream",
     "text": [
      "podaj literę: a\n",
      "Alfa\n"
     ]
    }
   ],
   "source": [
    "result={\n",
    "'A':'Alfa',\n",
    "'B':'Bravo',\n",
    "'C':'Charlie',\n",
    "'D':'Delta',\n",
    "'E':'Echo',\n",
    "'F':'Foxtrot',\n",
    "'G':'Golf',\n",
    "'H':'Hotel',\n",
    "'I':'India',\n",
    "'J':'Juliet',\n",
    "'K':'Kilo',\n",
    "'L':'Lima',\n",
    "'M':'Mike',\n",
    "'N':'November',\n",
    "'O':'Oscar',\n",
    "'P':'Papa',\n",
    "'Q':'Quebec',\n",
    "'R':'Romeo',\n",
    "'S':'Sierra',\n",
    "'T':'Tango',\n",
    "'U':'Uniform',\n",
    "'V':'Victor',\n",
    "'W':'Whisky',\n",
    "'X':'X-Ray',\n",
    "'Y':'Yankee',\n",
    "'Z':'Zulu'\n",
    "}\n",
    "litera=input(\"podaj literę: \").strip().title()\n",
    "fonet=result.get(litera,\"Piloci tak nie mówią\")\n",
    "print(fonet)"
   ]
  },
  {
   "cell_type": "code",
   "execution_count": 102,
   "metadata": {},
   "outputs": [],
   "source": [
    "# temat generatorów ważne - zip i enumerate w machine learningu"
   ]
  },
  {
   "cell_type": "code",
   "execution_count": 107,
   "metadata": {},
   "outputs": [
    {
     "name": "stdout",
     "output_type": "stream",
     "text": [
      "{'Petal length': 5.1,\n",
      " 'Petal width': 1.9,\n",
      " 'Sepal length': 5.8,\n",
      " 'Sepal width': 2.7,\n",
      " 'Species': 'virginica'}\n"
     ]
    }
   ],
   "source": [
    "DATA = [\n",
    "    ('Sepal length', 5.8),\n",
    "    ('Sepal width', 2.7),\n",
    "    ('Petal length', 5.1),\n",
    "    ('Petal width', 1.9),\n",
    "    ('Species', 'virginica')\n",
    "]\n",
    "\n",
    "result=dict(DATA)\n",
    "pprint(result)"
   ]
  },
  {
   "cell_type": "code",
   "execution_count": 106,
   "metadata": {},
   "outputs": [
    {
     "name": "stdout",
     "output_type": "stream",
     "text": [
      "{0: 'setosa', 1: 'versicolor', 2: 'virginica'}\n"
     ]
    }
   ],
   "source": [
    "DATA = ['setosa', 'versicolor', 'virginica']\n",
    "\n",
    "result=dict(enumerate(DATA))\n",
    "pprint(result)"
   ]
  },
  {
   "cell_type": "code",
   "execution_count": 108,
   "metadata": {},
   "outputs": [
    {
     "data": {
      "text/plain": [
       "{1: 3, 2: 6, 3: 5}"
      ]
     },
     "execution_count": 108,
     "metadata": {},
     "output_type": "execute_result"
    }
   ],
   "source": [
    "a=[1,2,3,2]\n",
    "b=[3,4,5,6]\n",
    "dict(zip(a,b))"
   ]
  }
 ],
 "metadata": {
  "kernelspec": {
   "display_name": "Python 3",
   "language": "python",
   "name": "python3"
  },
  "language_info": {
   "codemirror_mode": {
    "name": "ipython",
    "version": 3
   },
   "file_extension": ".py",
   "mimetype": "text/x-python",
   "name": "python",
   "nbconvert_exporter": "python",
   "pygments_lexer": "ipython3",
   "version": "3.7.6"
  }
 },
 "nbformat": 4,
 "nbformat_minor": 4
}
